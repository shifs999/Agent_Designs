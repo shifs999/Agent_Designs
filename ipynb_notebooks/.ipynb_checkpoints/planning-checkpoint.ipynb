{
 "cells": [
  {
   "cell_type": "code",
   "execution_count": 2,
   "id": "c1785342-307e-4ee5-bdb8-aa8d72be456f",
   "metadata": {},
   "outputs": [
    {
     "data": {
      "text/plain": [
       "'C:\\\\Users\\\\Lenovo\\\\agent_designs\\\\ipynb_notebooks'"
      ]
     },
     "execution_count": 2,
     "metadata": {},
     "output_type": "execute_result"
    }
   ],
   "source": [
    "os.getcwd()"
   ]
  },
  {
   "cell_type": "code",
   "execution_count": 3,
   "id": "2f3e465b-89ea-4871-abbf-1557335ec0d2",
   "metadata": {},
   "outputs": [
    {
     "name": "stdout",
     "output_type": "stream",
     "text": [
      "C:\\Users\\Lenovo\\agent_designs\n"
     ]
    }
   ],
   "source": [
    "cd .."
   ]
  },
  {
   "cell_type": "code",
   "execution_count": 4,
   "id": "4a5d5e75-19c7-46a0-aa63-7f97be644e00",
   "metadata": {},
   "outputs": [
    {
     "name": "stdout",
     "output_type": "stream",
     "text": [
      "C:\\Users\\Lenovo\\agent_designs\\src\n"
     ]
    }
   ],
   "source": [
    "cd C:\\Users\\Lenovo\\agent_designs\\src\\"
   ]
  },
  {
   "cell_type": "code",
   "execution_count": 21,
   "id": "0ebe7c7c-95ed-42be-a6a1-1262a5ee39bc",
   "metadata": {},
   "outputs": [],
   "source": [
    "import os\n",
    "import re\n",
    "import math\n",
    "import json\n",
    "from dotenv import load_dotenv\n",
    "\n",
    "from groq import Groq\n",
    "\n",
    "from agentic_designs.tool_des.tool import tool\n",
    "from agentic_designs.utils.extraction import extract_tag_content\n",
    "\n",
    "load_dotenv()\n",
    "\n",
    "MODEL = \"llama-3.3-70b-versatile\"\n",
    "GROQ_CLIENT = Groq()"
   ]
  },
  {
   "cell_type": "code",
   "execution_count": 7,
   "id": "6d0b672f-3d19-40d9-85de-818784f05637",
   "metadata": {},
   "outputs": [],
   "source": [
    "# This will be our system prompt\n",
    "\n",
    "REACT_SYSTEM_PROMPT = f\"\"\"\n",
    "You operate by running a loop with the following steps: Thought, Action, Observation.\n",
    "You are provided with function signatures within <tools></tools> XML tags.\n",
    "You may call one or more functions to assist with the user query. Don't make assumptions about what values to plug\n",
    "into functions. Pay special attention to the properties 'types'. You should use those types as in a Python dict.\n",
    "\n",
    "For each function call return a json object with function name and arguments within <tool_call></tool_call> XML tags as follows:\n",
    "\n",
    "<tool_call>\n",
    "{{\"name\": <function-name>, \"arguments\": <args-dict>, \"id\": <monotonically-increasing-id>}}\n",
    "</tool_call>\n",
    "\n",
    "Here are the available tools / actions:\n",
    "\n",
    "<tools>\n",
    "%s\n",
    "</tools>\n",
    "\n",
    "Example session:\n",
    "\n",
    "<question>What is (12345 + 67890) * 2?</question>\n",
    "<thought>I need to first add 12345 and 67890, then multiply the result by 2.</thought>\n",
    "<tool_call>{{\"name\": \"add_then_multiply\", \"arguments\": {{\"a\": 12345, \"b\": 67890, \"multiplier\": 2}}, \"id\": 0}}</tool_call>\n",
    "<observation>{{0: {{\"result\": 160470}}}}</observation>\n",
    "<response>The result of (12345 + 67890) * 2 is 160470.</response>\n",
    "\n",
    "Additional constraints:\n",
    "- If the user asks you something unrelated to any of the tools above, answer freely enclosing your answer with <response></response> tags.\n",
    "\"\"\""
   ]
  },
  {
   "cell_type": "code",
   "execution_count": 23,
   "id": "9e71f6fa-597a-4eae-b18d-1a25e943fdfd",
   "metadata": {},
   "outputs": [],
   "source": [
    "# @tool\n",
    "def sum_two_elements(a: int, b: int) -> int:\n",
    "    return a + b"
   ]
  },
  {
   "cell_type": "code",
   "execution_count": 10,
   "id": "58598c11-5a45-4017-8e80-a0211f3c831b",
   "metadata": {},
   "outputs": [],
   "source": [
    "@tool\n",
    "def multiply_two_elements(a: int, b: int) -> int:\n",
    "    return a * b"
   ]
  },
  {
   "cell_type": "code",
   "execution_count": 11,
   "id": "08961e48-f84d-4728-bec1-0ad153fab612",
   "metadata": {},
   "outputs": [],
   "source": [
    "@tool\n",
    "def compute_log(x: int) -> float | str:\n",
    "    if x <= 0:\n",
    "        return \"Logarithm is undefined for values less than or equal to 0.\"\n",
    "    \n",
    "    return math.log(x)\n",
    "\n",
    "\n",
    "available_tools = {\n",
    "    \"sum_two_elements\": sum_two_elements,\n",
    "    \"multiply_two_elements\": multiply_two_elements,\n",
    "    \"compute_log\": compute_log\n",
    "}"
   ]
  },
  {
   "cell_type": "code",
   "execution_count": 12,
   "id": "b2152cbc-5597-4ee3-8e92-8a9f7b76191e",
   "metadata": {},
   "outputs": [
    {
     "name": "stdout",
     "output_type": "stream",
     "text": [
      "\n",
      "You operate by running a loop with the following steps: Thought, Action, Observation.\n",
      "You are provided with function signatures within <tools></tools> XML tags.\n",
      "You may call one or more functions to assist with the user query. Don't make assumptions about what values to plug\n",
      "into functions. Pay special attention to the properties 'types'. You should use those types as in a Python dict.\n",
      "\n",
      "For each function call return a json object with function name and arguments within <tool_call></tool_call> XML tags as follows:\n",
      "\n",
      "<tool_call>\n",
      "{\"name\": <function-name>, \"arguments\": <args-dict>, \"id\": <monotonically-increasing-id>}\n",
      "</tool_call>\n",
      "\n",
      "Here are the available tools / actions:\n",
      "\n",
      "<tools>\n",
      "{\"name\": \"sum_two_elements\", \"description\": null, \"parameters\": {\"properties\": {\"a\": {\"type\": \"int\"}, \"b\": {\"type\": \"int\"}}}},\n",
      "{\"name\": \"multiply_two_elements\", \"description\": null, \"parameters\": {\"properties\": {\"a\": {\"type\": \"int\"}, \"b\": {\"type\": \"int\"}}}},\n",
      "{\"name\": \"compute_log\", \"description\": null, \"parameters\": {\"properties\": {\"x\": {\"type\": \"int\"}}}}\n",
      "</tools>\n",
      "\n",
      "Example session:\n",
      "\n",
      "<question>What is (12345 + 67890) * 2?</question>\n",
      "<thought>I need to first add 12345 and 67890, then multiply the result by 2.</thought>\n",
      "<tool_call>{\"name\": \"add_then_multiply\", \"arguments\": {\"a\": 12345, \"b\": 67890, \"multiplier\": 2}, \"id\": 0}</tool_call>\n",
      "<observation>{0: {\"result\": 160470}}</observation>\n",
      "<response>The result of (12345 + 67890) * 2 is 160470.</response>\n",
      "\n",
      "Additional constraints:\n",
      "- If the user asks you something unrelated to any of the tools above, answer freely enclosing your answer with <response></response> tags.\n",
      "\n"
     ]
    }
   ],
   "source": [
    "tools_signature = sum_two_elements.fn_signature + \",\\n\" + multiply_two_elements.fn_signature + \",\\n\" + compute_log.fn_signature\n",
    "REACT_SYSTEM_PROMPT = REACT_SYSTEM_PROMPT % tools_signature\n",
    "print(REACT_SYSTEM_PROMPT)"
   ]
  },
  {
   "cell_type": "code",
   "execution_count": 17,
   "id": "a6672f7a-fed1-4fcf-abb7-6a4b0c673f1a",
   "metadata": {},
   "outputs": [],
   "source": [
    "from agentic_designs.planning_des.planning_agent_ReAct_des import ReactAgent"
   ]
  },
  {
   "cell_type": "code",
   "execution_count": 20,
   "id": "7b2f9e9c-346c-421e-a404-c147633d26ab",
   "metadata": {},
   "outputs": [
    {
     "data": {
      "text/plain": [
       "'The result of the calculation is: sum of 5454 and 3456 = 8909, 8909 * 5 = 44545, and log(44545) = 10.498642372570958.'"
      ]
     },
     "execution_count": 20,
     "metadata": {},
     "output_type": "execute_result"
    }
   ],
   "source": [
    "agent = ReactAgent(tools=[sum_two_elements, multiply_two_elements, compute_log])\n",
    "agent.run(user_msg=\"Calculate the sum of 5454 and 3456 and then multiply the result by 5. Then, take the logarithm of this result. Show all steps as well.\")"
   ]
  },
  {
   "cell_type": "code",
   "execution_count": 24,
   "id": "aa696d06-3d5f-4afc-a608-5720261e4c32",
   "metadata": {},
   "outputs": [
    {
     "data": {
      "text/plain": [
       "8910"
      ]
     },
     "execution_count": 24,
     "metadata": {},
     "output_type": "execute_result"
    }
   ],
   "source": [
    "sum_two_elements(5454, 3456)\n",
    "# Expected: {\"result\": 8910}"
   ]
  },
  {
   "cell_type": "code",
   "execution_count": null,
   "id": "bee21eb3-c3ac-4d86-8dc0-f4895e3012ab",
   "metadata": {},
   "outputs": [],
   "source": []
  }
 ],
 "metadata": {
  "kernelspec": {
   "display_name": "Python (agent_designs)",
   "language": "python",
   "name": "agent_designs"
  },
  "language_info": {
   "codemirror_mode": {
    "name": "ipython",
    "version": 3
   },
   "file_extension": ".py",
   "mimetype": "text/x-python",
   "name": "python",
   "nbconvert_exporter": "python",
   "pygments_lexer": "ipython3",
   "version": "3.13.5"
  }
 },
 "nbformat": 4,
 "nbformat_minor": 5
}
