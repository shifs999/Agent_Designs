
  {
   "cell_type": "code",
   "execution_count": 2,
   "id": "0ebe7c7c-95ed-42be-a6a1-1262a5ee39bc",
   "metadata": {},
   "outputs": [],
   "source": [
    "import os\n",
    "import re\n",
    "import math\n",
    "import json\n",
    "from dotenv import load_dotenv\n",
    "\n",
    "from groq import Groq\n",
    "\n",
    "from agentic_designs.tool_des.tool import tool\n",
    "from agentic_designs.utils.extraction import extract_tag_content\n",
    "\n",
    "load_dotenv()\n",
    "\n",
    "MODEL = \"llama-3.3-70b-versatile\"\n",
    "GROQ_CLIENT = Groq()"
   ]
  },
  {
   "cell_type": "code",
   "execution_count": 3,
   "id": "6d0b672f-3d19-40d9-85de-818784f05637",
   "metadata": {},
   "outputs": [],
   "source": [
    "# This will be our system prompt \"C:\\Users\\Lenovo\\agent_designs\\src\\agentic_designs\\planning_des\\planning_agent_ReAct_des.py\"\n",
    "\n",
    "REACT_SYSTEM_PROMPT = \"\"\"\n",
    "You are a function-calling AI model. You operate by following a loop: Thought → Action → Observation.\n",
    "Your task is to solve user queries by calling available mathematical tools as needed — step by step.\n",
    "You are provided with function signatures within <tools></tools> XML tags.\n",
    "\n",
    "You should never guess or invent function arguments. Instead, follow the 'types' strictly as valid Python dictionaries.\n",
    "\n",
    "For each function call, return a JSON object inside <tool_call></tool_call> tags like this:\n",
    "\n",
    "<tool_call>\n",
    "{\"name\": <function-name>, \"arguments\": <args-dict>, \"id\": <monotonically-increasing-id>}\n",
    "</tool_call>\n",
    "\n",
    "Here are the available tools:\n",
    "\n",
    "<tools>\n",
    "%s\n",
    "</tools>\n",
    "\n",
    "Example session:\n",
    "\n",
    "<question>What is the sum of 2345 and 6789, and then multiply the result by 7?</question>\n",
    "<thought>I need to first add 2345 and 6789, then multiply the result by 7.</thought>\n",
    "<tool_call>{\"name\": \"sum_two_elements\", \"arguments\": {\"a\": 2345, \"b\": 6789}, \"id\": 0}</tool_call>\n",
    "\n",
    "You will then be called again with this:\n",
    "\n",
    "<observation>{0: 9134}</observation>\n",
    "\n",
    "Then:\n",
    "\n",
    "<thought>I will now multiply the result 9134 by 7.</thought>\n",
    "<tool_call>{\"name\": \"multiply_two_elements\", \"arguments\": {\"a\": 9134, \"b\": 7}, \"id\": 1}</tool_call>\n",
    "\n",
    "You will be called again with this:\n",
    "\n",
    "<observation>{1: 63938}</observation>\n",
    "\n",
    "Then:\n",
    "\n",
    "<response>The sum of 2345 and 6789 is 9134. Multiplying that by 7 gives 63938.</response>\n",
    "\n",
    "Additional constraints:\n",
    "- Only call functions that are explicitly defined in the <tools> section.\n",
    "- If the question doesn’t require any function, reply with your answer enclosed in <response></response> tags.\n",
    "\"\"\""
   ]
  },
  {
   "cell_type": "code",
   "execution_count": 4,
   "id": "9e71f6fa-597a-4eae-b18d-1a25e943fdfd",
   "metadata": {},
   "outputs": [],
   "source": [
    "@tool\n",
    "def sum_two_elements(a: int, b: int) -> int:\n",
    "    return a + b"
   ]
  },
  {
   "cell_type": "code",
   "execution_count": 5,
   "id": "58598c11-5a45-4017-8e80-a0211f3c831b",
   "metadata": {},
   "outputs": [],
   "source": [
    "@tool\n",
    "def multiply_two_elements(a: int, b: int) -> int:\n",
    "    return a * b"
   ]
  },
  {
   "cell_type": "code",
   "execution_count": 6,
   "id": "08961e48-f84d-4728-bec1-0ad153fab612",
   "metadata": {},
   "outputs": [],
   "source": [
    "@tool\n",
    "def compute_log(x: int) -> float | str:\n",
    "    if x <= 0:\n",
    "        return \"Logarithm is undefined for values less than or equal to 0.\"\n",
    "    \n",
    "    return math.log10(x)\n",
    "\n",
    "\n",
    "available_tools = {\n",
    "    \"sum_two_elements\": sum_two_elements,\n",
    "    \"multiply_two_elements\": multiply_two_elements,\n",
    "    \"compute_log\": compute_log\n",
    "}"
   ]
  },
  {
   "cell_type": "code",
   "execution_count": 7,
   "id": "a6672f7a-fed1-4fcf-abb7-6a4b0c673f1a",
   "metadata": {},
   "outputs": [],
   "source": [
    "from agentic_designs.planning_des.planning_agent_ReAct_des import ReactAgent"
   ]
  },
  {
   "cell_type": "code",
   "execution_count": 8,
   "id": "7b2f9e9c-346c-421e-a404-c147633d26ab",
   "metadata": {},
   "outputs": [
    {
     "name": "stdout",
     "output_type": "stream",
     "text": [
      "\u001b[35m\n",
      "Thought: I need to first add 5454 and 2457, then multiply the result by 5, and finally calculate the logarithm of this result.\n",
      "\u001b[32m\n",
      "Using Tool: sum_two_elements\n",
      "\u001b[32m\n",
      "Tool call dict: \n",
      "{'name': 'sum_two_elements', 'arguments': {'a': 5454, 'b': 2457}, 'id': 0}\n",
      "\u001b[32m\n",
      "Tool result: \n",
      "7911\n",
      "\u001b[34m\n",
      "Observations: {0: 7911}\n",
      "\u001b[35m\n",
      "Thought: Now that I have the sum of 5454 and 2457, which is 7911, I will multiply this result by 5.\n",
      "\u001b[32m\n",
      "Using Tool: multiply_two_elements\n",
      "\u001b[32m\n",
      "Tool call dict: \n",
      "{'name': 'multiply_two_elements', 'arguments': {'a': 7911, 'b': 5}, 'id': 1}\n",
      "\u001b[32m\n",
      "Tool result: \n",
      "39555\n",
      "\u001b[34m\n",
      "Observations: {1: 39555}\n",
      "\u001b[35m\n",
      "Thought: Now that I have the result of multiplying 7911 by 5, which is 39555, I will calculate the logarithm of this result.\n",
      "\u001b[32m\n",
      "Using Tool: compute_log\n",
      "\u001b[32m\n",
      "Tool call dict: \n",
      "{'name': 'compute_log', 'arguments': {'x': 39555}, 'id': 2}\n",
      "\u001b[32m\n",
      "Tool result: \n",
      "4.597201388849116\n",
      "\u001b[34m\n",
      "Observations: {2: 4.597201388849116}\n"
     ]
    },
    {
     "data": {
      "text/plain": [
       "'The sum of 5454 and 2457 is 7911. Multiplying that by 5 gives 39555. The logarithm of 39555 is 4.5972.'"
      ]
     },
     "execution_count": 8,
     "metadata": {},
     "output_type": "execute_result"
    }
   ],
   "source": [
    "agent = ReactAgent(tools=[sum_two_elements, multiply_two_elements, compute_log])\n",
    "agent.run(user_msg=\"Calculate the sum of 5454 and 2457 and multiply the result by 5. Then, take the logarithm of this result\")"
   ]
  },
  {
   "cell_type": "code",
   "execution_count": null,
   "id": "bee21eb3-c3ac-4d86-8dc0-f4895e3012ab",
   "metadata": {},
   "outputs": [],
   "source": []
  }
 ],
 "metadata": {
  "kernelspec": {
   "display_name": "Python (agent_designs)",
   "language": "python",
   "name": "agent_designs"
  },
  "language_info": {
   "codemirror_mode": {
    "name": "ipython",
    "version": 3
   },
   "file_extension": ".py",
   "mimetype": "text/x-python",
   "name": "python",
   "nbconvert_exporter": "python",
   "pygments_lexer": "ipython3",
   "version": "3.13.5"
  }
 },
 "nbformat": 4,
 "nbformat_minor": 5
}
